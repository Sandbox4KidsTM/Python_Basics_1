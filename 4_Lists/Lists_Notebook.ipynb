{
 "cells": [
  {
   "cell_type": "markdown",
   "metadata": {},
   "source": [
    "![SBXLogo](../docs/Sandbox_Logo.jpg)\n",
    "# Lists\n",
    "\n",
    "## Creating Lists\n",
    "So far we have seen the basic data types, but we can only store one piece of data in each variable that we create. This starts to get messy when we have lots of data that we need to work with. Imagine if we had some data representing the height of students in a classroom. If there are 40 people in the class that would be 40 variables to keep track of and most likely 40 lines just to create the variables. \n",
    "\n",
    "To combat this and to take advantage of the way computers store data Python has a data structure called a **list**. A **list** allows programmers to store groups of data in one variable and in an organized way.\n",
    "\n",
    "Lists are created using *brackets* - [ ], and the values in the list are separated by commas."
   ]
  },
  {
   "cell_type": "code",
   "execution_count": 2,
   "metadata": {},
   "outputs": [
    {
     "data": {
      "text/plain": [
       "[4.5, 5.6, 5.1, 5.0, 4.7, 4.4]"
      ]
     },
     "execution_count": 2,
     "metadata": {},
     "output_type": "execute_result"
    }
   ],
   "source": [
    "# This creates a LIST of 6 heights. All bound to one variable.\n",
    "heights = [4.5, 5.6, 5.1, 5.0, 4.7, 4.4]\n",
    "heights"
   ]
  },
  {
   "cell_type": "code",
   "execution_count": 31,
   "metadata": {},
   "outputs": [
    {
     "data": {
      "text/plain": [
       "['Read', 'Program', 'Piano', 'Bird', 3.1415926535]"
      ]
     },
     "execution_count": 31,
     "metadata": {},
     "output_type": "execute_result"
    }
   ],
   "source": [
    "# Lists in Python can hold any type, and as many types as we want.\n",
    "hobbies = [\"Read\", \"Program\", \"Piano\", \"Bird\", 3.1415926535]\n",
    "hobbies"
   ]
  },
  {
   "cell_type": "markdown",
   "metadata": {},
   "source": [
    "## Accessing Our Data\n",
    "So we can easily store our data but how do we access it? In Python we use **indices** and **slices**. We can grab an individual piece of data with an **index** or we can get a **slice** or section of our data. To do this we need to learn **indices**.\n",
    "Each **element** in our list is given an **index** The **index** describes where in the list our element is located. In Python, **indices** are zero based so the first element has an index of 0."
   ]
  },
  {
   "cell_type": "code",
   "execution_count": 32,
   "metadata": {},
   "outputs": [
    {
     "data": {
      "text/plain": [
       "4.5"
      ]
     },
     "execution_count": 32,
     "metadata": {},
     "output_type": "execute_result"
    }
   ],
   "source": [
    "# This creates a LIST of 6 heights. All bound to one variable.\n",
    "# Indices [0,   1 ,  2,   3,   4,   5  ]\n",
    "heights = [4.5, 5.6, 5.1, 5.0, 4.7, 4.4]\n",
    "# Gets the first element in the list.\n",
    "heights[0]"
   ]
  },
  {
   "cell_type": "code",
   "execution_count": 13,
   "metadata": {},
   "outputs": [
    {
     "data": {
      "text/plain": [
       "5.1"
      ]
     },
     "execution_count": 13,
     "metadata": {},
     "output_type": "execute_result"
    }
   ],
   "source": [
    "heights[2] # This is the third item in the list."
   ]
  },
  {
   "cell_type": "markdown",
   "metadata": {},
   "source": [
    "So what if I wanted the last element in a list? There are 2 good way of doing this. Looking at the example above we see that the index of the last element is always 1 less than the number of elements in the list (there were 6 elements in the list to the last index was 5). To get the number of elements in a list we use the built-in `len()` function."
   ]
  },
  {
   "cell_type": "code",
   "execution_count": 35,
   "metadata": {},
   "outputs": [
    {
     "data": {
      "text/plain": [
       "4.4"
      ]
     },
     "execution_count": 35,
     "metadata": {},
     "output_type": "execute_result"
    }
   ],
   "source": [
    "# Get the length of the list\n",
    "length = len(heights)\n",
    "# The last index is 1 less than the length of the list\n",
    "last_index = length - 1\n",
    "# Use list syntax to get the element at that index.\n",
    "heights[last_index]"
   ]
  },
  {
   "cell_type": "markdown",
   "metadata": {},
   "source": [
    "So far we have only used forward indexing, but Python supports backwards indexing as well. We use negative numbers to index backwards so the last element is index -1, the second last is -2, third is -3, etc...\n",
    "\n",
    "The picture below does a good job of visualizing these ideas. In this case, the list is: `[1,2,3,4,5]`.\n",
    "\n",
    "![lists.png](docs/lists.png)"
   ]
  },
  {
   "cell_type": "code",
   "execution_count": 33,
   "metadata": {},
   "outputs": [
    {
     "data": {
      "text/plain": [
       "4.4"
      ]
     },
     "execution_count": 33,
     "metadata": {},
     "output_type": "execute_result"
    }
   ],
   "source": [
    "heights[-1]"
   ]
  },
  {
   "cell_type": "markdown",
   "metadata": {},
   "source": [
    "## Adding to a List\n",
    "\n",
    "We will talk about slices later on in the lesson. Next lets talk about adding elements to a list. \n",
    "To do this we will review getting input from the user as well. Lets make a small program that allows the user to input 5 numbers and prints out the list of numbers and the biggest one."
   ]
  },
  {
   "cell_type": "code",
   "execution_count": 39,
   "metadata": {},
   "outputs": [
    {
     "name": "stdin",
     "output_type": "stream",
     "text": [
      "Input the first number:  15\n",
      "Input the first number:  12\n",
      "Input the first number:  19\n",
      "Input the first number:  0\n",
      "Input the first number:  -100\n"
     ]
    },
    {
     "name": "stdout",
     "output_type": "stream",
     "text": [
      "[15, 12, 19, 0, -100]\n",
      "19\n"
     ]
    }
   ],
   "source": [
    "# Create an empty list.\n",
    "numbers = []\n",
    "\n",
    "# Get input from the user.\n",
    "num = input(\"Input the first number: \")\n",
    "# Turn the input into a number\n",
    "num = int(num)\n",
    "# Add the number to the list.\n",
    "numbers.append(num)\n",
    "largest = num\n",
    "    \n",
    "# Get input from the user.\n",
    "num = input(\"Input the second number: \")\n",
    "# Turn the input into a number\n",
    "num = int(num)\n",
    "# Add the number to the list.\n",
    "numbers.append(num)\n",
    "if num > largest:\n",
    "    largest = num\n",
    "    \n",
    "# Get input from the user.\n",
    "num = input(\"Input the third number: \")\n",
    "# Turn the input into a number\n",
    "num = int(num)\n",
    "# Add the number to the list.\n",
    "numbers.append(num)\n",
    "if num > largest:\n",
    "    largest = num\n",
    "    \n",
    "# Get input from the user.\n",
    "num = input(\"Input the fourth number: \")\n",
    "# Turn the input into a number\n",
    "num = int(num)\n",
    "# Add the number to the list.\n",
    "numbers.append(num)\n",
    "if num > largest:\n",
    "    largest = num\n",
    "    \n",
    "# Get input from the user.\n",
    "num = input(\"Input the fifth number: \")\n",
    "# Turn the input into a number\n",
    "num = int(num)\n",
    "# Add the number to the list.\n",
    "numbers.append(num)\n",
    "if num > largest:\n",
    "    largest = num\n",
    "\n",
    "print(numbers)\n",
    "print(largest)"
   ]
  },
  {
   "cell_type": "markdown",
   "metadata": {},
   "source": [
    "So we use the `append()` **method** on our list. A method is just a special type of function. It is a function that is called on an **object**. Just about everything in Python is an object and we will talk about them in more detail later. For now, know that a list is an **object** and that the function `append()` is called a **method** because it gets called *on* the list.\n",
    "\n",
    "Remember that functions are called like this:\n",
    "\n",
    "```Python\n",
    "func_name()\n",
    "```\n",
    "\n",
    "Methods are called like this:\n",
    "\n",
    "```Python\n",
    "object.method_name()\n",
    "```\n",
    "\n",
    "So we use the `append()` method like this:\n",
    "\n",
    "```Python\n",
    "my_list.append(item)\n",
    "```\n",
    "\n",
    "The `append()` method adds the element it is given to the *end* of the list."
   ]
  },
  {
   "cell_type": "code",
   "execution_count": 42,
   "metadata": {},
   "outputs": [
    {
     "name": "stdout",
     "output_type": "stream",
     "text": [
      "[1]\n",
      "[1, 2]\n",
      "[1, 2, 3]\n"
     ]
    }
   ],
   "source": [
    "array = []\n",
    "array.append(1)\n",
    "print(array)\n",
    "array.append(2)\n",
    "print(array)\n",
    "array.append(3)\n",
    "print(array)"
   ]
  },
  {
   "cell_type": "markdown",
   "metadata": {},
   "source": [
    "Sometimes we need to add elements in other places, the front for example. In this case we will use the `insert()` method. The `insert()` method takes 2 arguments: the index you want your element to be, and the element."
   ]
  },
  {
   "cell_type": "code",
   "execution_count": 44,
   "metadata": {},
   "outputs": [
    {
     "name": "stdout",
     "output_type": "stream",
     "text": [
      "[1]\n",
      "[2, 1]\n",
      "[3, 2, 1]\n"
     ]
    }
   ],
   "source": [
    "array = []\n",
    "array.insert(0, 1)\n",
    "print(array)\n",
    "array.insert(0, 2)\n",
    "print(array)\n",
    "array.insert(0, 3)\n",
    "print(array)"
   ]
  },
  {
   "cell_type": "markdown",
   "metadata": {},
   "source": [
    "## Removing Elements from a List\n",
    "To remove items from a list there are a few methods available to us. We will look at `pop()` and `remove()`\n",
    "\n",
    "`pop()` allows us to remove an element at a given index (if we wanted to remove the first element we would use `pop(0)`.\n",
    "By default, if you call `pop()` without an argument it removes the *last* item in the list."
   ]
  },
  {
   "cell_type": "code",
   "execution_count": 41,
   "metadata": {},
   "outputs": [
    {
     "name": "stdout",
     "output_type": "stream",
     "text": [
      "[3, 5, 7, 9]\n",
      "[3, 5, 7]\n",
      "[5, 7]\n"
     ]
    }
   ],
   "source": [
    "array = [3,5,7,9]\n",
    "print(array)\n",
    "array.pop()\n",
    "print(array)\n",
    "array.pop(0)\n",
    "print(array)"
   ]
  },
  {
   "cell_type": "markdown",
   "metadata": {},
   "source": [
    "`remove()` does something similar. It has one required parameter, and it looks through the list and removes the element if it can find it. For example, calling `list.remove(5)` looks through a list and searches for the number 5. If if finds it, it removes it. **If it cannot find it, `remove()` throws and error and WILL crash your program.** Only use remove when you *know* the element you are removing is in the list **OR** know how to handle the error."
   ]
  },
  {
   "cell_type": "code",
   "execution_count": 23,
   "metadata": {},
   "outputs": [
    {
     "name": "stdout",
     "output_type": "stream",
     "text": [
      "[1, 2, 3, 4, 5]\n",
      "Removing 4:\n",
      "[1, 2, 3, 5]\n"
     ]
    }
   ],
   "source": [
    "array = [1,2,3,4,5]\n",
    "print(array)\n",
    "print(\"Removing 4:\")\n",
    "array.remove(4)\n",
    "print(array)"
   ]
  },
  {
   "cell_type": "markdown",
   "metadata": {},
   "source": [
    "But watch what happens when we call `array.remove(-10)`."
   ]
  },
  {
   "cell_type": "code",
   "execution_count": 26,
   "metadata": {},
   "outputs": [
    {
     "name": "stdout",
     "output_type": "stream",
     "text": [
      "Trying to remove an item not it a list (fails and throws error):\n"
     ]
    },
    {
     "ename": "ValueError",
     "evalue": "list.remove(x): x not in list",
     "output_type": "error",
     "traceback": [
      "\u001b[0;31m---------------------------------------------------------------------------\u001b[0m",
      "\u001b[0;31mValueError\u001b[0m                                Traceback (most recent call last)",
      "\u001b[0;32m<ipython-input-26-a337067ed534>\u001b[0m in \u001b[0;36m<module>\u001b[0;34m()\u001b[0m\n\u001b[1;32m      1\u001b[0m \u001b[0mprint\u001b[0m\u001b[0;34m(\u001b[0m\u001b[0;34m\"Trying to remove an item not it a list (fails and throws error):\"\u001b[0m\u001b[0;34m)\u001b[0m\u001b[0;34m\u001b[0m\u001b[0m\n\u001b[0;32m----> 2\u001b[0;31m \u001b[0marray\u001b[0m\u001b[0;34m.\u001b[0m\u001b[0mremove\u001b[0m\u001b[0;34m(\u001b[0m\u001b[0;34m-\u001b[0m\u001b[0;36m10\u001b[0m\u001b[0;34m)\u001b[0m\u001b[0;34m\u001b[0m\u001b[0m\n\u001b[0m",
      "\u001b[0;31mValueError\u001b[0m: list.remove(x): x not in list"
     ]
    }
   ],
   "source": [
    "print(\"Trying to remove an item not it a list (fails and throws error):\")\n",
    "array.remove(-10)"
   ]
  },
  {
   "cell_type": "markdown",
   "metadata": {},
   "source": [
    "It tells us exaclty what went wrong. It tried to remove some value (it calls it x) and x was not in the list!"
   ]
  },
  {
   "cell_type": "markdown",
   "metadata": {},
   "source": [
    "## Checking Our List for an Element"
   ]
  },
  {
   "cell_type": "markdown",
   "metadata": {},
   "source": [
    "Sometime we just want to find out if an element is in our list. For example is anyone in the class 4.5 feet tall; is anyone 6.2 feet tall? We have a few methods to check if an element is in the list. Similar to the removing methods, one won't throw an error if the element is in the list and one will.\n",
    "\n",
    "`count()` is the safe one, `count()` does almost exaclty what you would expect. It counts how many times an object occurs in a list. If the element is not in the list then the count will be 0."
   ]
  },
  {
   "cell_type": "code",
   "execution_count": 27,
   "metadata": {},
   "outputs": [
    {
     "name": "stdout",
     "output_type": "stream",
     "text": [
      "Number of 4s:  1\n",
      "Number of 3s:  2\n",
      "Number of 2s:  3\n",
      "Number of 1s:  4\n",
      "Number of 0s:  0\n"
     ]
    }
   ],
   "source": [
    "array = [4, 3, 3, 2, 2, 2, 1, 1, 1, 1]\n",
    "print(\"Number of 4s: \", array.count(4))\n",
    "print(\"Number of 3s: \", array.count(3))\n",
    "print(\"Number of 2s: \", array.count(2))\n",
    "print(\"Number of 1s: \", array.count(1))\n",
    "print(\"Number of 0s: \", array.count(0))"
   ]
  },
  {
   "cell_type": "code",
   "execution_count": 48,
   "metadata": {},
   "outputs": [
    {
     "name": "stdout",
     "output_type": "stream",
     "text": [
      "Someone is 4.5 feet tall\n"
     ]
    }
   ],
   "source": [
    "heights = [4.5, 5.6, 5.1, 5.0, 4.7, 4.4]\n",
    "if heights.count(4.5) > 0:\n",
    "    print(\"Someone is 4.5 feet tall\")\n",
    "if heights.count(6.2) > 0:\n",
    "    print(\"Someone is 6.2 feet tall\")"
   ]
  },
  {
   "cell_type": "markdown",
   "metadata": {},
   "source": [
    "The next method for checking our list is `index()`, `index()` is used for finding the index of an element. If the element we are looking for is not in the list, we get an error; so it important to make sure the element in our list before using `index()` unless we know how to catch errors."
   ]
  },
  {
   "cell_type": "code",
   "execution_count": 52,
   "metadata": {},
   "outputs": [
    {
     "name": "stdout",
     "output_type": "stream",
     "text": [
      "8\n"
     ]
    },
    {
     "data": {
      "text/plain": [
       "1"
      ]
     },
     "execution_count": 52,
     "metadata": {},
     "output_type": "execute_result"
    }
   ],
   "source": [
    "array = [9,8,7,6,5,4,3,2,1,0]\n",
    "idx = array.index(1)\n",
    "print(idx)\n",
    "array[idx]"
   ]
  },
  {
   "cell_type": "markdown",
   "metadata": {},
   "source": [
    "### Challenges\n"
   ]
  }
 ],
 "metadata": {
  "kernelspec": {
   "display_name": "Python 3",
   "language": "python",
   "name": "python3"
  },
  "language_info": {
   "codemirror_mode": {
    "name": "ipython",
    "version": 3
   },
   "file_extension": ".py",
   "mimetype": "text/x-python",
   "name": "python",
   "nbconvert_exporter": "python",
   "pygments_lexer": "ipython3",
   "version": "3.6.5"
  }
 },
 "nbformat": 4,
 "nbformat_minor": 2
}
