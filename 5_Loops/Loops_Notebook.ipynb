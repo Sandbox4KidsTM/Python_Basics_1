{
 "cells": [
  {
   "cell_type": "markdown",
   "metadata": {},
   "source": [
    "![Sbx_Logo.jpg](../docs/Sandbox_Logo.jpg)\n",
    "# Loops\n",
    "\n",
    "Loops are powerful constructs in Python, they allow us to run code multiple times without having to repeat ourselves over and over again.\n",
    "\n",
    "Python contains 2 types of loops: `while` loops and `for` loops. `for` loops are just shorthand for `while` loops, so all `for` loops can be written as a `while` loop. The opposite is not true, there are some `while` loops that cannot be written using `for` loop syntax.\n",
    "\n",
    "## While Loops\n",
    "We are going to learn both types of loops, but we will start with `while` loops. \n",
    "\n",
    "A `while` loop runs a block of code over and over, while a certain condition is `True`. `while` loops check the condition before it runs / reruns the code. For example, lets create a quick countdown program that counts down from a number to 0."
   ]
  },
  {
   "cell_type": "code",
   "execution_count": 10,
   "metadata": {},
   "outputs": [
    {
     "name": "stdout",
     "output_type": "stream",
     "text": [
      "5\n",
      "4\n",
      "3\n",
      "2\n",
      "1\n",
      "0\n",
      "Lift Off!\n"
     ]
    }
   ],
   "source": [
    "number = 5\n",
    "while number >= 0:\n",
    "    print(number)\n",
    "    number = number - 1\n",
    "print(\"Lift Off!\")"
   ]
  },
  {
   "cell_type": "markdown",
   "metadata": {},
   "source": [
    "This is an extremely quick way to solve a problem like this; to all we need to do to print more numbers is increase the `number` variable:"
   ]
  },
  {
   "cell_type": "code",
   "execution_count": 12,
   "metadata": {},
   "outputs": [
    {
     "name": "stdout",
     "output_type": "stream",
     "text": [
      "10\n",
      "9\n",
      "8\n",
      "7\n",
      "6\n",
      "5\n",
      "4\n",
      "3\n",
      "2\n",
      "1\n",
      "0\n",
      "Lift Off!\n"
     ]
    }
   ],
   "source": [
    "number = 10\n",
    "while number >= 0:\n",
    "    print(number)\n",
    "    number = number - 1\n",
    "print(\"Lift Off!\")"
   ]
  },
  {
   "cell_type": "markdown",
   "metadata": {},
   "source": [
    "**What is the value of** `number` **after running this program?**"
   ]
  },
  {
   "cell_type": "markdown",
   "metadata": {},
   "source": [
    "So `while` loop sytax looks like this:\n",
    "\n",
    "```Python\n",
    "while Condition:\n",
    "    block_to_repeat\n",
    "    block_to_repeat\n",
    "    block_to_repeat\n",
    "i_am_run_after_the_loop\n",
    "```"
   ]
  },
  {
   "cell_type": "markdown",
   "metadata": {},
   "source": [
    "### Challenges\n",
    "1. Write a quick program to count from 0 to 140 by 7.\n",
    "2. Write a program to find the average of a list of numbers. `[2.9, 5, 8.7, 15, 23, -10, 15, 8]`"
   ]
  },
  {
   "cell_type": "code",
   "execution_count": 20,
   "metadata": {},
   "outputs": [
    {
     "name": "stdout",
     "output_type": "stream",
     "text": [
      "Hello\n",
      "Goodbye\n",
      "Cat\n",
      "Dog\n"
     ]
    }
   ],
   "source": [
    "words = [\"Hello\" , \"Goodbye\", \"Cat\" , \"Dog\"]\n",
    "idx = 0\n",
    "while idx < len(words):\n",
    "    print(words[idx])\n",
    "    idx = idx + 1"
   ]
  },
  {
   "cell_type": "code",
   "execution_count": 25,
   "metadata": {},
   "outputs": [
    {
     "data": {
      "text/plain": [
       "8.45"
      ]
     },
     "execution_count": 25,
     "metadata": {},
     "output_type": "execute_result"
    }
   ],
   "source": [
    "numbers = [2.9, 5, 8.7, 15, 23, -10, 15, 8]\n",
    "idx = 0\n",
    "total = 0\n",
    "while idx < len(numbers):\n",
    "    total = total + numbers[idx]\n",
    "    idx = idx + 1\n",
    "average = total / len(numbers)\n",
    "average"
   ]
  },
  {
   "cell_type": "markdown",
   "metadata": {},
   "source": [
    "## For Loops"
   ]
  },
  {
   "cell_type": "markdown",
   "metadata": {},
   "source": [
    "```Python\n",
    "    for element in Collection:\n",
    "        do_something_with_element\n",
    "        do_something_with_element\n",
    "    done_with_loop_code\n",
    "```"
   ]
  },
  {
   "cell_type": "code",
   "execution_count": 40,
   "metadata": {},
   "outputs": [
    {
     "name": "stdout",
     "output_type": "stream",
     "text": [
      "0\n",
      "1\n",
      "2\n",
      "3\n",
      "4\n",
      "5\n",
      "6\n",
      "7\n",
      "8\n",
      "9\n"
     ]
    }
   ],
   "source": [
    "# Range function create a collection containing the elements between the values given\n",
    "# The for loop then iterates over the collecting running the block of code, with x as the current element\n",
    "for x in range(0, 10):\n",
    "    print(x)"
   ]
  },
  {
   "cell_type": "code",
   "execution_count": 44,
   "metadata": {},
   "outputs": [
    {
     "data": {
      "text/plain": [
       "8.45"
      ]
     },
     "execution_count": 44,
     "metadata": {},
     "output_type": "execute_result"
    }
   ],
   "source": [
    "numbers = [2.9, 5, 8.7, 15, 23, -10, 15, 8]\n",
    "total = 0\n",
    "for number in numbers:\n",
    "    total = total + number\n",
    "average = total / len(numbers)\n",
    "average"
   ]
  },
  {
   "cell_type": "code",
   "execution_count": 56,
   "metadata": {},
   "outputs": [
    {
     "name": "stdin",
     "output_type": "stream",
     "text": [
      "Input a number 10\n",
      "Input a number 20\n",
      "Input a number 30\n",
      "Input a number 40\n",
      "Input a number 50\n",
      "Input a number EOF\n"
     ]
    },
    {
     "name": "stdout",
     "output_type": "stream",
     "text": [
      "[10.0, 20.0, 30.0, 40.0, 50.0]\n",
      "Max:  50.0\n",
      "Min:  10.0\n",
      "Average:  30.0\n"
     ]
    }
   ],
   "source": [
    "numbers = []\n",
    "num = input(\"Input a number\")\n",
    "while num.lower() != 'eof':\n",
    "    num = float(num)\n",
    "    numbers.append(num)\n",
    "    num = input(\"Input a number\")\n",
    "    \n",
    "print(numbers)\n",
    "print(\"Max: \", max(numbers))\n",
    "print(\"Min: \", min(numbers))\n",
    "print(\"Average: \", sum(numbers) / len(numbers))"
   ]
  }
 ],
 "metadata": {
  "kernelspec": {
   "display_name": "Python 3",
   "language": "python",
   "name": "python3"
  },
  "language_info": {
   "codemirror_mode": {
    "name": "ipython",
    "version": 3
   },
   "file_extension": ".py",
   "mimetype": "text/x-python",
   "name": "python",
   "nbconvert_exporter": "python",
   "pygments_lexer": "ipython3",
   "version": "3.6.5"
  }
 },
 "nbformat": 4,
 "nbformat_minor": 2
}
