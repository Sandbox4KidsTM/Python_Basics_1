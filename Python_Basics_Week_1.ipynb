{
 "cells": [
  {
   "cell_type": "markdown",
   "metadata": {},
   "source": [
    "# Python Basics Week 1\n",
    "\n",
    "This week we are going to be learning the basic of Python!"
   ]
  },
  {
   "cell_type": "code",
   "execution_count": 1,
   "metadata": {},
   "outputs": [
    {
     "name": "stdout",
     "output_type": "stream",
     "text": [
      "Hello World\n"
     ]
    }
   ],
   "source": [
    "print(\"Hello World\")"
   ]
  },
  {
   "cell_type": "markdown",
   "metadata": {},
   "source": [
    "## Basic Types\n",
    "* int (integers)\n",
    "* float (decimals)\n",
    "* Strings (collections of characters)\n",
    "* boolean (logical: True, False)\n",
    "* Built-In Functions"
   ]
  },
  {
   "cell_type": "code",
   "execution_count": 1,
   "metadata": {},
   "outputs": [
    {
     "name": "stdout",
     "output_type": "stream",
     "text": [
      "1\n",
      "4 + 11 = 15\n",
      "My name is Mitch.\n",
      "False\n",
      "True\n",
      "Enter your age: 15\n",
      "15\n",
      "Green\n"
     ]
    }
   ],
   "source": [
    "# Basic Types - foundational types that make up python.\n",
    "\n",
    "3 # int (integer) \n",
    "4.5 # float (decimals)\n",
    ".45\n",
    "45.0 \n",
    "\n",
    "print(4 - 3)\n",
    "\n",
    "# String - collection of characters that is not interpreted\n",
    "# Char - single character\n",
    "\n",
    "print(\"4 + 11 =\", 4 + 11)\n",
    "print(\"My name is Mitch.\")\n",
    "\n",
    "# Boolean - Either True or False\n",
    "print(False)\n",
    "print(True)\n",
    "\n",
    "## Variables\n",
    "\n",
    "num = 27\n",
    "\n",
    "color = \"Green\"\n",
    "\n",
    "isBlonde = True\n",
    "\n",
    "age = input(\"Enter your age: \")\n",
    "print(age)\n",
    "print(color)\n",
    "\n",
    "# Casting - turning a type into a different type\n",
    "# if age bigger than 10: print You are older than 10.\n",
    "# int(v)\n",
    "# float(v)\n",
    "# str(v)\n",
    "# bool(v)\n",
    "# char(v)\n",
    "numAge = int(age)"
   ]
  },
  {
   "cell_type": "markdown",
   "metadata": {},
   "source": [
    "### Application: Temperature Conversion\n",
    "\n",
    "Next we will create a simple application that will request a temperature in Fahrenheit and convert it to Celcius.\n",
    "Then it ill prompt the user for a temperature in Celcius and convert it to Fahrenheit. I have outlined the first half with comments. "
   ]
  },
  {
   "cell_type": "code",
   "execution_count": 1,
   "metadata": {},
   "outputs": [
    {
     "name": "stdout",
     "output_type": "stream",
     "text": [
      "What is the temperature(f): 50\n",
      "Celcius: 10.0\n",
      "What is the temperature(c): 50\n",
      "Fahrenheit: 122.0\n",
      "Current Temperature: (C) 31.32342529296875\n"
     ]
    }
   ],
   "source": [
    "from sense_hat import SenseHat ## Delete this line before running\n",
    "hat = SenseHat() ## Delete this line before running\n",
    "# Ask the user for a temperature, store to variable\n",
    "Tempf = input(\"What is the temperature(f): \")\n",
    "# Change that temp into a float, (from a string)\n",
    "Tempf = float(Tempf)\n",
    "# Convert that number into Celcius from Fahrenheit\n",
    "# Tc = (Tf - 32) x (5/9)\n",
    "TempC = (Tempf - 32) * (5/9)\n",
    "# Print out that number. With some info\n",
    "print(\"Celcius:\", TempC)\n",
    "\n",
    "# Go the other direction\n",
    "# Tf = ((9/5) x Tc) + 32\n",
    "Tc = input(\"What is the temperature(c): \")\n",
    "Tc = float(Tc)\n",
    "Tf = (9/5 * Tc) + 32\n",
    "print(\"Fahrenheit:\",Tf)\n",
    "\n",
    "currentTemp = hat.get_temperature() ## Delete this line before running\n",
    "print(\"Current Temperature: (C)\", currentTemp) ## Delete this line before running\n",
    "hat.show_message(str(currentTemp)) ## Delete this line before running"
   ]
  },
  {
   "cell_type": "markdown",
   "metadata": {},
   "source": [
    "## Branching and the Random Library\n",
    "\n",
    "We will be using a popular library called Random to learn about branching, conditions, and generating random numbers.\n",
    "\n",
    "Branching allows us to run certain blocks of code only when it suits our needs. Generally this will be done with the `if` statement.\n",
    "\n",
    "`if (condition):`\n",
    "\n",
    "`____ #Do Something`\n",
    "\n",
    "`____ #Do Something else`\n",
    "\n",
    "`# Do something outside of the if statement`\n",
    "\n",
    "To use Random library we need to use the `import` keyword. This gives us access to all of the classes and functions in the random library. We will be using the `randint(a,b)` function, which returns a random integer between `a` and `b` inclusive."
   ]
  },
  {
   "cell_type": "code",
   "execution_count": 2,
   "metadata": {},
   "outputs": [
    {
     "name": "stdout",
     "output_type": "stream",
     "text": [
      "You have 3 health\n"
     ]
    }
   ],
   "source": [
    "import random\n",
    "\n",
    "num = random.randint(-5,5)\n",
    "\n",
    "if num == 0 or num < 0:\n",
    "    print(\"You have no health.\")\n",
    "if num > 0:\n",
    "    print(\"You have {} health\".format(num))"
   ]
  },
  {
   "cell_type": "markdown",
   "metadata": {},
   "source": [
    "### Challenge Program\n",
    "\n",
    "Write a program that simulates ordering a meal at In-N-Out.\n",
    "First ask the user if they want a hamburger or a cheeseburger.\n",
    "A hamberger costs 3.25, and a cheeseburger costs 4.10.\n",
    "Then ask if they want fries. Fries cost 2.45\n",
    "Ask if they want a strawberry or vanilla shake.\n",
    "Strawberrys cost 3.75. Vanilla costs 3.00.\n",
    "Give them their total cost."
   ]
  },
  {
   "cell_type": "code",
   "execution_count": 3,
   "metadata": {},
   "outputs": [
    {
     "name": "stdout",
     "output_type": "stream",
     "text": [
      "Welcome to In-N-Out!\n",
      "Would you like a Hamburger or a Cheeseburger? Hamburger\n",
      "Got it, one hamburger.\n",
      "Would you like fries? Yes\n",
      "Great\n",
      "Would you like a Strawberry Shake or a Vanilla Shake? Vanilla\n",
      "Great, you are set.\n",
      "You're total price is: $8.7\n"
     ]
    }
   ],
   "source": [
    "from sense_hat import SenseHat # Don't do this\n",
    "s = SenseHat() # Or this\n",
    "print(\"Welcome to In-N-Out!\")\n",
    "\n",
    "hb = 3.25\n",
    "cb = 4.10\n",
    "ff = 2.45\n",
    "vs = 3.00\n",
    "ss = 3.75\n",
    "\n",
    "price = 0.0\n",
    "burger = input(\"Would you like a Hamburger or a Cheeseburger? \")\n",
    "\n",
    "if burger.lower() == \"hamburger\":\n",
    "    print(\"Got it, one hamburger.\")\n",
    "    price = price + hb\n",
    "elif burger.lower() == \"cheeseburger\":\n",
    "    print(\"Comin up, one cheeseburger.\")\n",
    "    price = price + cb\n",
    "\n",
    "fries = input(\"Would you like fries? \")\n",
    "\n",
    "if fries.lower() == \"yes\":\n",
    "    print(\"Great\")\n",
    "    price = price + ff\n",
    "    \n",
    "shake = input(\"Would you like a Strawberry Shake or a Vanilla Shake? \")\n",
    "\n",
    "if shake.lower() == \"strawberry\":\n",
    "    print(\"My favorite, you're all set.\")\n",
    "    price = price + ss\n",
    "elif shake.lower() == \"vanilla\":\n",
    "    print(\"Great, you are set.\")\n",
    "    price = price + vs\n",
    "print(\"You're total price is: $\"+ str(price))\n",
    "s.show_message(\"$\"+str(price)) # Don't write this"
   ]
  },
  {
   "cell_type": "markdown",
   "metadata": {},
   "source": [
    "# Python Basics - Day 2\n",
    "Today we will be covering Iteration and Lists and Dictionaries.\n",
    "\n",
    "## Lists\n",
    "Yesterday we learned that we can create variables to store our data. But what if we have a large set of data all related to some single topic? In this case we will often turn to a list. A list is a structure in Python that allows us to store data in an ordered way.\n"
   ]
  },
  {
   "cell_type": "code",
   "execution_count": 28,
   "metadata": {
    "scrolled": false
   },
   "outputs": [
    {
     "name": "stdout",
     "output_type": "stream",
     "text": [
      "['Green', 'Blue', 'Red', 'Gray']\n",
      "[6.5, 5.7, 5.8, 4, 5]\n",
      "6.5\n",
      "4\n",
      "5\n",
      "[6.5, 5.7, 5.8, 4, 5, 14]\n",
      "15\n"
     ]
    }
   ],
   "source": [
    "myList = [\"Green\", \"Blue\", \"Red\", \"Gray\"]\n",
    "myNumbers = [6.5, 5.7, 5.8, 4, 5]\n",
    "\n",
    "print(myList)\n",
    "print(myNumbers)\n",
    "\n",
    "# Accessing the elements (zero based)\n",
    "print(myNumbers[0]) # Print the first element\n",
    "print(myNumbers[3]) # Prints the fourth element\n",
    "print(myNumbers[-1]) # Always prints the last element\n",
    "\n",
    "# Adding and removing from the list\n",
    "# Append always adds to the end of the list\n",
    "myNumbers.append(14) \n",
    "# Adds 15 to the list as the first element\n",
    "myNumbers.insert(0,15) \n",
    "# Removes the first element and gives it back to us. \n",
    "# Pop default to the last element.\n",
    "a = myNumbers.pop(0)\n",
    "print(myNumbers)\n",
    "print(a)\n",
    "\n",
    "# Checking for a value in the list, is \"Green\" in my list?\n",
    "# Counts the number of times \"Green\" is in the list\n",
    "hasGreen = myList.count(\"Green\")\n",
    "# Finds where it is in the list, throws error if not found\n",
    "greenIndex = myList.index(\"Green\") \n",
    "# Returns the number of elements in the list\n",
    "length = len(myList) "
   ]
  },
  {
   "cell_type": "markdown",
   "metadata": {},
   "source": [
    "## Dictionaries \n",
    "\n",
    "A dictionary is similar to a list in that it stores multiple pieces of data all at once. The difference is that a dictionary stores its data as key-value pairs. There is no order to a dictionary, the keys are what we use to look up our data."
   ]
  },
  {
   "cell_type": "code",
   "execution_count": 50,
   "metadata": {},
   "outputs": [
    {
     "name": "stdout",
     "output_type": "stream",
     "text": [
      "True\n",
      "Bob's favorite color is Blue\n"
     ]
    }
   ],
   "source": [
    "# Creates a dictionary\n",
    "favoriteColors = {\"Mitch\": \"Green\", \"Angel\": \"Red\", \\\n",
    "                  \"Thomas\": \"Green\", \"Harrison\": \"Green\"} \n",
    "\n",
    "# Adds a key-value pair to the dictionary\n",
    "favoriteColors[\"Bob\"] = \"Blue\" \n",
    "\n",
    "# Remove a key-value pair\n",
    "del(favoriteColors[\"Mitch\"])\n",
    "\n",
    "# Check if a key is in the dictionary\n",
    "hasBob = \"Bob\" in favoriteColors\n",
    "print(hasBob)\n",
    "\n",
    "lookUp = \"Bob\"\n",
    "print(\"{}'s favorite color is {}\".format(lookUp, favoriteColors[lookUp]))\n"
   ]
  },
  {
   "cell_type": "markdown",
   "metadata": {},
   "source": [
    "### Program: Queriable Dictionary\n",
    "\n",
    "Create a program that looks up a word in a premade dictionary and prints out the definition, if the word they entered is not in the dictionary we will tell them that it is not in the dictionary. Edible"
   ]
  },
  {
   "cell_type": "code",
   "execution_count": 4,
   "metadata": {},
   "outputs": [
    {
     "name": "stdout",
     "output_type": "stream",
     "text": [
      "What word would you like to look up? Raspberry Pi\n",
      "A single board computer that is great for many small applications\n"
     ]
    }
   ],
   "source": [
    "myWords = {\"python\": \"A general purpose programming language\",\n",
    "           \"computer\": \"An electrical device that makes \\\n",
    "                       large computations very quickly\",\n",
    "           \"raspberry pi\": \"A single board computer that is \\\n",
    "                           great for many small applications\"}\n",
    "\n",
    "query = input(\"What word would you like to look up? \").lower()\n",
    "if query in myWords:\n",
    "    print(myWords[query])\n",
    "else:\n",
    "    print(\"Sorry, Invalid Word.\")"
   ]
  },
  {
   "cell_type": "markdown",
   "metadata": {},
   "source": [
    "## Day 3 - Looping and Functions\n",
    "Often we want to repeat a process over and over again but we don't want to type our code over and over again if we can help it. There are two main types of loops that we use to avoid rewriting code. \n",
    "\n",
    "`While` loop: runs a block of code over and over again until a condition is false."
   ]
  },
  {
   "cell_type": "code",
   "execution_count": 39,
   "metadata": {},
   "outputs": [
    {
     "name": "stdout",
     "output_type": "stream",
     "text": [
      "250500\n",
      "250500\n"
     ]
    }
   ],
   "source": [
    "# While loops\n",
    "\n",
    "sum_ = 0\n",
    "x = 2\n",
    "while x <= 1000:\n",
    "    sum_ += x\n",
    "    x += 2\n",
    "    \n",
    "sum2 = 0\n",
    "for x in range(0,1001,2):\n",
    "    sum2 += x\n",
    "    \n",
    "print(sum_)\n",
    "print(sum2)"
   ]
  },
  {
   "cell_type": "markdown",
   "metadata": {},
   "source": [
    "### While Loop Assigment\n",
    "Find the product of the first 13 prime numbers "
   ]
  },
  {
   "cell_type": "code",
   "execution_count": 21,
   "metadata": {},
   "outputs": [
    {
     "name": "stdout",
     "output_type": "stream",
     "text": [
      "Prime Found: 2. Ans: 2. Primes: 1\n",
      "Prime Found: 3. Ans: 6. Primes: 2\n",
      "Prime Found: 5. Ans: 30. Primes: 3\n",
      "Prime Found: 7. Ans: 210. Primes: 4\n",
      "Prime Found: 11. Ans: 2310. Primes: 5\n",
      "Prime Found: 13. Ans: 30030. Primes: 6\n",
      "Prime Found: 17. Ans: 510510. Primes: 7\n",
      "Prime Found: 19. Ans: 9699690. Primes: 8\n",
      "Prime Found: 23. Ans: 223092870. Primes: 9\n",
      "Prime Found: 29. Ans: 6469693230. Primes: 10\n",
      "Prime Found: 31. Ans: 200560490130. Primes: 11\n",
      "Prime Found: 37. Ans: 7420738134810. Primes: 12\n",
      "Prime Found: 41. Ans: 304250263527210. Primes: 13\n",
      "Prime Found: 43. Ans: 13082761331670030. Primes: 14\n",
      "Prime Found: 47. Ans: 614889782588491410. Primes: 15\n",
      "614889782588491410\n"
     ]
    }
   ],
   "source": [
    "def isPrime(num):\n",
    "    x = 2\n",
    "    while x <= num / 2:\n",
    "        if num % x == 0:\n",
    "            return False\n",
    "        x += 1\n",
    "    return True\n",
    "\n",
    "ans = 1\n",
    "x = 2\n",
    "primes = 0\n",
    "while primes < 15:\n",
    "    if isPrime(x):\n",
    "        ans *= x\n",
    "        primes += 1\n",
    "        print(\"Prime Found: {}. Ans: {}. Primes: {}\"\\\n",
    "              .format(x, ans, primes))\n",
    "    x += 1\n",
    "print(ans)\n",
    "        "
   ]
  },
  {
   "cell_type": "markdown",
   "metadata": {},
   "source": [
    "The second type of loop is the `for` loop. The `for` loop is similar to the `while` loop only we have more control over how many times it is run."
   ]
  },
  {
   "cell_type": "code",
   "execution_count": 36,
   "metadata": {},
   "outputs": [
    {
     "name": "stdout",
     "output_type": "stream",
     "text": [
      "1\n",
      "2\n",
      "3\n",
      "4\n",
      "5\n",
      "6\n",
      "7\n",
      "8\n",
      "9\n",
      "10\n",
      "Mark says hi.\n",
      "Bob says hi.\n",
      "Steve says hi.\n",
      "Mark _says hi.\n",
      "Bob _says hi.\n",
      "Steve _says hi.\n"
     ]
    }
   ],
   "source": [
    "for i in range(1,11):\n",
    "    print(i)\n",
    "    \n",
    "array = [\"Mark\", \"Bob\", \"Steve\"]\n",
    "for x in array:\n",
    "    print(x, \"says hi.\")\n",
    "    \n",
    "index = 0\n",
    "while index < len(array):\n",
    "    print(array[index], \"_says hi.\")\n",
    "    index += 1"
   ]
  },
  {
   "cell_type": "markdown",
   "metadata": {},
   "source": [
    "### For Loop Assignment\n",
    "Write a program that gets three integers from the user. Count from the first number to the second number in increments of the third number. Use a `for` loop to do it."
   ]
  },
  {
   "cell_type": "code",
   "execution_count": 49,
   "metadata": {},
   "outputs": [
    {
     "name": "stdout",
     "output_type": "stream",
     "text": [
      "Count From: 2\n",
      "Count To: 10\n",
      "Count By: 2\n",
      "2\n",
      "4\n",
      "6\n",
      "8\n",
      "10\n"
     ]
    }
   ],
   "source": [
    "countFrom = int(input(\"Count From: \"))\n",
    "countTo = int(input(\"Count To: \")) + 1\n",
    "countBy = int(input(\"Count By: \"))\n",
    "if (countTo - 1 - countFrom) % countBy ==0:\n",
    "    for i in range(countFrom, countTo , countBy):\n",
    "        print(i)\n",
    "else:\n",
    "    print(\"Invalid Input\")"
   ]
  },
  {
   "cell_type": "markdown",
   "metadata": {},
   "source": [
    "### Challenge Assignment: FizzBuzz\n",
    "Write a program that prints the numbers from 1 to 100. But for multiples of three print \"Fizz\" instead of the number and for the multiples of five print \"Buzz\". For numbers which are multiples of both three and five print \"FizzBuzz\".\n"
   ]
  },
  {
   "cell_type": "code",
   "execution_count": null,
   "metadata": {},
   "outputs": [],
   "source": [
    "num = 1\n",
    "while num <= 100:\n",
    "    if num % 15 == 0:\n",
    "        print(\"FizzBuzz\")\n",
    "    elif num % 5 == 0:\n",
    "        print(\"Buzz\")\n",
    "    elif num % 3 == 0:\n",
    "        print(\"Fizz\")\n",
    "    else:\n",
    "        print(num)\n",
    "    num += 1\n",
    "    "
   ]
  },
  {
   "cell_type": "markdown",
   "metadata": {},
   "source": [
    "### Functions\n",
    "Often we have block of code that serves one purpose and we want to be able to reuse that functionality any time we need to. We call creating a function \"Defining a function\". A function definition is started with the `def` keyword followed by the name of the functions and a pair of parenthesis. Inside the parenthesis we can put any \"inputs\" that our function need to be able to run. We call the inputs parameters."
   ]
  },
  {
   "cell_type": "code",
   "execution_count": 73,
   "metadata": {},
   "outputs": [
    {
     "name": "stdout",
     "output_type": "stream",
     "text": [
      "The square of 5 is 25.\n",
      "The square of 7 is 49.\n",
      "The square of 9 is 81.\n",
      "The square of 11 is 121.\n",
      "The square of 13 is 169.\n",
      "The square of 15 is 225.\n",
      "The square of 17 is 289.\n",
      "The square of 19 is 361.\n",
      "The square of 21 is 441.\n",
      "The square of 23 is 529.\n",
      "The square of 25 is 625.\n",
      "The square of 3 is 9.\n",
      "The square of 4 is 16.\n"
     ]
    },
    {
     "data": {
      "text/plain": [
       "5.0"
      ]
     },
     "execution_count": 73,
     "metadata": {},
     "output_type": "execute_result"
    }
   ],
   "source": [
    "import math\n",
    "\n",
    "def square(number):\n",
    "    print(\"The square of {} is {}.\" \\ \n",
    "          .format(number, number * number))\n",
    "    return number * number\n",
    "    \n",
    "def _2xPlus5(x):\n",
    "    return 2*x + 5\n",
    "\n",
    "def PythagTheorem(leg1, leg2):\n",
    "    sumOfSquares = square(leg1) + square(leg2)\n",
    "    return math.sqrt(sumOfSquares)\n",
    "    \n",
    "for i in range(0,11):\n",
    "    b = _2xPlus5(i)\n",
    "    square(b)\n",
    "    \n",
    "print(PythagTheorem(3,4))"
   ]
  },
  {
   "cell_type": "markdown",
   "metadata": {},
   "source": [
    "### Challenge Program: Area Calculator\n",
    "Create a program that show the user a menu to calculate the area of a few different shapes: square, rectangle, triangle, and circle. Then find the area of the shape with the parameters given by the user."
   ]
  },
  {
   "cell_type": "code",
   "execution_count": 81,
   "metadata": {},
   "outputs": [
    {
     "name": "stdout",
     "output_type": "stream",
     "text": [
      "1. Area of a Square\n",
      "2. Area of a Rectangle\n",
      "3. Area of a Triangle\n",
      "4. Area of a Circle\n",
      "\n",
      " Type 1-4 to choose: 5\n",
      "Invalid Input\n",
      "3.141592653589793\n"
     ]
    }
   ],
   "source": [
    "import math\n",
    "\n",
    "def inputSquare():\n",
    "    side = input(\"Side Length: \")\n",
    "    side = int(side)\n",
    "    return side * side\n",
    "\n",
    "def inputRectangle():\n",
    "    w = int(input(\"Width: \"))\n",
    "    l = int(input(\"Length: \"))\n",
    "    return w * l\n",
    "\n",
    "def inputTriangle():\n",
    "    b = int(input(\"Base: \"))\n",
    "    h = int(input(\"Height: \"))\n",
    "    return (1/2)*b*h\n",
    "\n",
    "def inputCircle():\n",
    "    r = int(input(\"Radius: \"))\n",
    "    return math.pi * r * r\n",
    "\n",
    "print(\"1. Area of a Square\")\n",
    "print(\"2. Area of a Rectangle\")\n",
    "print(\"3. Area of a Triangle\")\n",
    "print(\"4. Area of a Circle\")\n",
    "ans = -1\n",
    "choice = int(input(\"\\n Type 1-4 to choose: \"))\n",
    "if choice == 1:\n",
    "    ans = inputSquare()\n",
    "elif choice == 2:\n",
    "    ans = inputRectangle()\n",
    "elif choice == 3:\n",
    "    ans = inputTriangle()\n",
    "elif choice == 4:\n",
    "    ans = inputCircle()\n",
    "if ans != -1:\n",
    "    print(ans)\n",
    "else:\n",
    "    print(\"Invalid Input\")\n"
   ]
  },
  {
   "cell_type": "markdown",
   "metadata": {},
   "source": [
    "## Classes\n",
    "Classes allow us to encapulate data and functions into one group or class that lets us easily simulate behavior. \n",
    "For example, next we are going to create a rocket class that simulate the position and fuel levels of a rocket. The convience of wrapping our program into a class allows us to create multiple rockets with ease.\n",
    "\n",
    "Lists - `[]`\n",
    "\n",
    "Dictionary - `{}`\n",
    "\n",
    "Tuples - `()`"
   ]
  },
  {
   "cell_type": "code",
   "execution_count": 37,
   "metadata": {},
   "outputs": [
    {
     "name": "stdout",
     "output_type": "stream",
     "text": [
      "Position: (0, 0, 0); Fuel: 100\n",
      "Position: (4, 5, 9); Fuel: 96.68639169484382\n",
      "You made it to the space station!\n",
      "Filling up the fuel tank.\n",
      "Position: (4, 5, 9); Fuel: 100\n",
      "\n",
      "\n",
      "Position: (0, 1, 0); Fuel: 100; People: 0\n",
      "Position: (10, 10, 11); Fuel: 94.78655584090517; People: 0\n",
      "Position: (10, 10, 11); Fuel: 94.78655584090517; People: 5\n",
      "Position: (0, 0, 0); Fuel: 89.4116139807545; People: 5\n",
      "Position: (0, 0, 0); Fuel: 89.4116139807545; People: 0\n"
     ]
    }
   ],
   "source": [
    "import math\n",
    "\n",
    "# Takes in two tuples and calculates the distance between them.\n",
    "def distance_formula(p1, p2): \n",
    "    sum_of_squares = 0\n",
    "    if len(p1) == len(p2):\n",
    "        for i in range(0, len(p1)):\n",
    "            diff = p2[i] - p1[i]\n",
    "            sum_of_squares += diff * diff\n",
    "        return math.sqrt(sum_of_squares)\n",
    "    else:\n",
    "        return -1\n",
    "    \n",
    "\n",
    "class Rocket():\n",
    "    \n",
    "    ## Magic method, used to initialize our class into an object. Takes 2 parameters, \n",
    "    # the starting location of the rocket and its fuel level\n",
    "    def __init__(self, p0, fuel_level0):\n",
    "        self._position = p0\n",
    "        self._fuel_level = fuel_level0\n",
    "        \n",
    "    ## Magic method, used to create the string that is \n",
    "    # printed when we call the print() function on our object.\n",
    "    def __repr__(self):\n",
    "        return \"Position: {}; Fuel: {}\".format(self._position, self._fuel_level)\n",
    "    \n",
    "    ## Assignment: edit the fly method so that:\n",
    "    #        We ensure that there is enough fuel to make the trip\n",
    "    #        If we do, make the trip\n",
    "    #        If not, print(\"Not enough fuel\")\n",
    "    def fly(self, p2):\n",
    "        distance = distance_formula(self._position, p2)\n",
    "        fuel_used =  0.3 * distance\n",
    "        ##### Add fuel logic here\n",
    "        if fuel_used > self._fuel_level:\n",
    "            print(\"Not enough fuel\")\n",
    "            return False\n",
    "        else:\n",
    "            self._fuel_level -= fuel_used\n",
    "            self._position = p2\n",
    "            return True\n",
    "        #####\n",
    "        \n",
    "    def refuel(self):\n",
    "        print(\"Filling up the fuel tank.\")\n",
    "        self._fuel_level = 100\n",
    "        \n",
    "    def get_position(self):\n",
    "        return self._position\n",
    "    \n",
    "    def get_fuel_level(self):\n",
    "        return self._fuel_level\n",
    "    \n",
    "class Shuttle(Rocket):\n",
    "    # People is an optional parameter, defaults to 0 if not included\n",
    "    def __init__(self, p0, fuel_level, people = 0): \n",
    "        Rocket.__init__(self, p0, fuel_level)\n",
    "        self._people = people\n",
    "        \n",
    "    def __repr__(self):\n",
    "        return \"Position: {}; Fuel: {}; People: {}\"\\\n",
    "                .format(self._position, self._fuel_level, self._people)\n",
    "    \n",
    "    ## Get People function\n",
    "    def get_people(self):\n",
    "        return self._people\n",
    "    \n",
    "    ## Load People function\n",
    "    def load_people(self, num_people):\n",
    "        self._people += num_people\n",
    "    \n",
    "    ## Unload People function\n",
    "    def unload_people(self, num_people):\n",
    "        self._people -= num_people\n",
    "        if self._people < 0:\n",
    "            self._people = 0\n",
    "    \n",
    "r = Rocket((0,0,0),100)\n",
    "print(r)\n",
    "r.fly((4,5,9))\n",
    "print(r)\n",
    "if r.get_position() == (4,5,9):\n",
    "    print(\"You made it to the space station!\")\n",
    "r.refuel()\n",
    "print(r)\n",
    "print(\"\\n\")\n",
    "\n",
    "ss = Shuttle((0,1,0), 100)\n",
    "print(ss)\n",
    "ss.fly((10,10,11))\n",
    "print(ss)\n",
    "ss.load_people(5)\n",
    "print(ss)\n",
    "ss.fly((0,0,0))\n",
    "print(ss)\n",
    "ss.unload_people(11)\n",
    "print(ss)"
   ]
  }
 ],
 "metadata": {
  "kernelspec": {
   "display_name": "Python 3",
   "language": "python",
   "name": "python3"
  },
  "language_info": {
   "codemirror_mode": {
    "name": "ipython",
    "version": 3
   },
   "file_extension": ".py",
   "mimetype": "text/x-python",
   "name": "python",
   "nbconvert_exporter": "python",
   "pygments_lexer": "ipython3",
   "version": "3.6.5"
  }
 },
 "nbformat": 4,
 "nbformat_minor": 2
}
