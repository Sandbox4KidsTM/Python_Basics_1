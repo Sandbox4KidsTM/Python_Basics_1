{
 "cells": [
  {
   "cell_type": "markdown",
   "metadata": {},
   "source": [
    "![jpg](../docs/Sandbox_Logo.jpg)\n",
    "# Branching and Operators\n",
    "\n",
    "Branching is an essential part of most programs. Our program flow thus far have been linear, running one command after another until we have no lines of Python left to run. Let's say we wanted offer our users a choice between buying a hamburger or a cheeseburger. No matter what our user responds we are going to end up running both the hamburger code *and* the cheeseburger code. Our user is going to be very confused when they are forced to pay for and eat both a hamburger and a cheeseburger. For example:\n",
    "\n",
    "```Python\n",
    "# Ask the user what they want.\n",
    "burger = input(\"Would you like a cheeseburger or a hamburger?\")\n",
    "\n",
    "# We are okay so far, we can use their response to answer.\n",
    "# But it isn't a great solution, what if they had typed in sushi??\n",
    "print(\"One {} coming up!\".format(choice))\n",
    "\n",
    "# But now we have to charge them for something\n",
    "# and cook them something.\n",
    "order_hamburger()\n",
    "\n",
    "# Wait but did they order that?\n",
    "# Better just order a hamburger, just to be safe.\n",
    "order_cheeseburger()\n",
    "\n",
    "print(\"Thanks for your order!\")\n",
    "# Now Im in a bunch of trouble!!\n",
    "# I cost the customer money and wasted food!\n",
    "```\n",
    "\n",
    "There is a couple of things to note about the code above:\n",
    "1. The lines that start with `#` are **Comments**, Python ignores anything that has a `#` before it. It gives us programmers a way to communicate our ideas and how our program work!\n",
    "2. The `order_hamburger()` and `order_cheeseburger()` are functions, just like the built-in functions like the ones we have seen before except they are *not* (as nice as that would be) built-in. So if they are not built-in, where are they coming from? They would have been defined somewhere else in the program, maybe by YOU. Right now they are just being use to express an idea.\n",
    "\n",
    "Ok, so obvously my code is not ready for real use yet but lets see if we can get it there.\n",
    "\n",
    "## Operators and Comparison\n",
    "\n",
    "We have seen several operators so far:\n",
    "\n",
    "| Operator | Name |\n",
    "|----------|------|\n",
    "| + | Addition |\n",
    "| - | Subtraction |\n",
    "| *  | Multiplication |\n",
    "| /  | Division |\n",
    "| =  | Assignment |\n",
    "\n",
    "But we have a few more to learn!\n",
    "\n",
    "### Comparison Operators\n",
    "| Operator | Description | Example |\n",
    "|---|---|---|\n",
    "| == | Equals (True if both sides are equal) | x == 5 |\n",
    "| != | Not Equal (True if both sides are **NOT** equal | x != y |\n",
    "| < | Less Than | x < 10 |\n",
    "| > | Greater Than | z > 0 |\n",
    "| <= | Less Than Or Equal To | a <= b |\n",
    "| >= | Greater Than Or Equal To | c >= d |\n",
    "\n",
    "### Logical Operators\n",
    "| Operator | Description | Example | True if: |\n",
    "|---|---|---|---|\n",
    "| and | True if both sides are True | x > 0 and x < 10 | x is between 0 and 10 |\n",
    "| or | True if one of the sides is True | x == y or z == w | x and y are equal OR z and w are equal |\n",
    "| not | Reverse a bool, True if bool was False | not(x == x or 5 == 10) | Never |\n",
    "\n",
    "There are more operators but they are less used. We may talk about a few later, but on we go!\n",
    "\n",
    "Using Comparison and Logical Operators we can evaluate complex comparisons to either `True` or `False`!\n",
    "\n",
    "### Challenge:\n",
    "Evaluate the following if `x = 5; y = 10; z = -15`:\n",
    "1. x == 5\n",
    "2. y == 8 or z == -15\n",
    "3. x == 5 and y < 55 and z >= z\n",
    "4. x == 1 or not(y == 10 and x < 0)\n",
    "5. not(not(x > 10) and not(y > x and y > z))\n",
    "\n",
    "## Branching - IF\n",
    "Okay, with comparisons under our belts we can start branching! In Computer Science, branching is making a choice to run certain code depending on what *conditions* have been met.\n",
    "\n",
    "Our primary tool for branching in Python is the `if` statement. The `if` statement runs a block of code only if a certain condition is `True`. For example:"
   ]
  },
  {
   "cell_type": "code",
   "execution_count": 5,
   "metadata": {},
   "outputs": [
    {
     "name": "stdout",
     "output_type": "stream",
     "text": [
      "X is a big number\n",
      "But not as big as 20!\n",
      "All Done\n"
     ]
    }
   ],
   "source": [
    "x = 15\n",
    "y = 0\n",
    "# Check if x is bigger than 10\n",
    "if x > 10:\n",
    "    print(\"X is a big number\")\n",
    "    # Then if it is bigger than 10, check if it is smaller then 20.\n",
    "    if x < 20:\n",
    "        print(\"But not as big as 20!\")\n",
    "\n",
    "# Check if y is bigger than 10\n",
    "if y > 10:\n",
    "    print(\"Y is a big number\")\n",
    "    print(\"Let's make Y smaller\")\n",
    "    y = -1\n",
    "print(\"All Done\")"
   ]
  },
  {
   "cell_type": "markdown",
   "metadata": {},
   "source": [
    "Notice in the code above, the first and second branches was run because the comparison eveluates to `True`. However the third was not run, because its comparison evaluates to `False`.\n",
    "\n",
    "#### IMPORTANT\n",
    "`if` statements run (or don't run) **blocks** of code. A block of code in Python is written differently than in most languages. A **block** starts after the colon `:` at the end of the if statement and any lines of code that we want to put in the block **must** be intented by **4 spaces** past the beginning of the block above it. To exit the block simply reset your indentation back **4 spaces**.\n",
    "\n",
    "So let's improve our hamburger program from before:"
   ]
  },
  {
   "cell_type": "code",
   "execution_count": null,
   "metadata": {},
   "outputs": [],
   "source": [
    "burger = input(\"Would you like a hamburger or cheeseburger?\")\n",
    "\n",
    "if burger == \"Hamburger\":\n",
    "    order_hamburger()\n",
    "if cheeseburger == \"Cheeseburger\":\n",
    "    order_cheeseburger()\n",
    "    \n",
    "print(\"Thanks for your order!\")"
   ]
  },
  {
   "cell_type": "markdown",
   "metadata": {},
   "source": [
    "## Branching - ELIF, ElSE\n",
    "\n",
    "Great! So now we won't end up charging them for items that they did't order. But there is still a few problems:\n",
    "1. If they ordered a hamburger then we don't need to check to see if they ordered a cheeseburger, that just wastes time!\n",
    "2. What if they did't ask for either of them.\n",
    "\n",
    "This is where *ELSE If* and *ELSE* statements come it. They work almost the same as if statements; but they are only run when the `if` statement is not run. Let's see an example:"
   ]
  },
  {
   "cell_type": "code",
   "execution_count": 2,
   "metadata": {},
   "outputs": [
    {
     "name": "stdout",
     "output_type": "stream",
     "text": [
      "X is larger than 5\n"
     ]
    }
   ],
   "source": [
    "import random\n",
    "\n",
    "x = random.randint(0,10)\n",
    "\n",
    "if x > 5:\n",
    "    print(\"X is larger than 5\")\n",
    "else:\n",
    "    print(\"X is smaller than or equal to 5\")"
   ]
  },
  {
   "cell_type": "markdown",
   "metadata": {},
   "source": [
    "This is our first look at the random module. Importing `random` module allows us to use new functions and classes just like the `math` module does. It allows us to call the `randint()` function which gives us a random Integer between the two arguments we give the function. In this case it picks a random number from the set {0,1,2,3,4,5,6,7,8,9,10}.\n",
    "We don't know what number it picked but we know that it was larger than 5. Let's run it again. Because the `if` statement *is* run, the `else` statement is not run. Let's run our program again."
   ]
  },
  {
   "cell_type": "code",
   "execution_count": 4,
   "metadata": {},
   "outputs": [
    {
     "name": "stdout",
     "output_type": "stream",
     "text": [
      "X is smaller than or equal to 5\n"
     ]
    }
   ],
   "source": [
    "import random\n",
    "\n",
    "x = random.randint(0,10)\n",
    "\n",
    "if x > 5:\n",
    "    print(\"X is larger than 5\")\n",
    "else:\n",
    "    print(\"X is smaller than or equal to 5\")"
   ]
  },
  {
   "cell_type": "markdown",
   "metadata": {},
   "source": [
    "This time the `if` statement does *not* run so the `else` statement is run. We also have `elif` (else if) statements. Else if statements work similar to else statements except they only run `if` their contition is True. Take a look at the program-flow diagram below.\n",
    "\n",
    "![if.png](docs/if.jpg)\n",
    "\n",
    "`elif` blocks are always placed after the `if` statement and before the (optional) `else` statement. We can add as many `elif` statements as we like so our branching structures can get quite a bit more complex. Let's see this in action:"
   ]
  },
  {
   "cell_type": "code",
   "execution_count": 5,
   "metadata": {},
   "outputs": [
    {
     "name": "stdout",
     "output_type": "stream",
     "text": [
      "Grade: B\n"
     ]
    }
   ],
   "source": [
    "grade = 88\n",
    "\n",
    "if grade > 90:\n",
    "    print(\"Grade: A\")\n",
    "elif grade > 80:\n",
    "    print(\"Grade: B\")\n",
    "elif grade > 70:\n",
    "    print(\"Grade: C\")\n",
    "elif grade > 60:\n",
    "    print(\"Grade: D\")\n",
    "else:\n",
    "    print(\"Grade: F\")"
   ]
  },
  {
   "cell_type": "markdown",
   "metadata": {},
   "source": [
    "### Disclaimer\n",
    "`if` statements are very useful and will certainly be a part of almost all of our programs, however they can be overused. Be careful to avoid huge nested `if` statements (`if` statements in `if` statements) as it can make a program very hard to understand, to change, and to debug. We will see other programming patterns later that can help avoid these huge structures."
   ]
  },
  {
   "cell_type": "code",
   "execution_count": null,
   "metadata": {},
   "outputs": [],
   "source": []
  }
 ],
 "metadata": {
  "kernelspec": {
   "display_name": "Python 3",
   "language": "python",
   "name": "python3"
  },
  "language_info": {
   "codemirror_mode": {
    "name": "ipython",
    "version": 3
   },
   "file_extension": ".py",
   "mimetype": "text/x-python",
   "name": "python",
   "nbconvert_exporter": "python",
   "pygments_lexer": "ipython3",
   "version": "3.6.5"
  }
 },
 "nbformat": 4,
 "nbformat_minor": 2
}
