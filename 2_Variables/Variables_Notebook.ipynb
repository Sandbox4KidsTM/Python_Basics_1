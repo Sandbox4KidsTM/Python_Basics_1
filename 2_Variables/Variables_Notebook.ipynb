{
 "cells": [
  {
   "cell_type": "markdown",
   "metadata": {},
   "source": [
    "![jpg](../../docs/Sandbox_Logo.jpg)\n",
    "\n",
    "# Python Variables\n",
    "\n",
    "Often in programming we want to use some of our data in more than one place or we want to save a result for us to use later.\n",
    "\n",
    "To do this we use **variables**. In Python, as with many other languages, we use **variables** to store our data for future use.\n",
    "\n",
    "Let's say we want to ask the user of our program for their name. Last section we saw the `input()` function that we can use to get a string from a user."
   ]
  },
  {
   "cell_type": "code",
   "execution_count": 9,
   "metadata": {},
   "outputs": [
    {
     "name": "stdin",
     "output_type": "stream",
     "text": [
      "What is your name?  Sandbox\n"
     ]
    },
    {
     "data": {
      "text/plain": [
       "'Sandbox'"
      ]
     },
     "execution_count": 9,
     "metadata": {},
     "output_type": "execute_result"
    }
   ],
   "source": [
    "input(\"What is your name? \")"
   ]
  },
  {
   "cell_type": "markdown",
   "metadata": {},
   "source": [
    "This works just fine but if we wanted to print \"Hello, Sandbox\" our code would look like this:"
   ]
  },
  {
   "cell_type": "code",
   "execution_count": 11,
   "metadata": {},
   "outputs": [
    {
     "name": "stdin",
     "output_type": "stream",
     "text": [
      "What is your name?  Sandbox\n"
     ]
    },
    {
     "name": "stdout",
     "output_type": "stream",
     "text": [
      "Hello, Sandbox\n"
     ]
    }
   ],
   "source": [
    "print(\"Hello,\", input(\"What is your name? \"))"
   ]
  },
  {
   "cell_type": "markdown",
   "metadata": {},
   "source": [
    "This works just fine but it is unclear what is really happening. If we can avoid it, we should never call a function in the `print()` function. The `print()` function has one job and by calling the `input()` inside the print statement we are giving `print()` another job. More importantly, we lose their name after we print it; if we wanted to reuse their name later we would need to ask them again! In order to avoid these pitfalls we are going to store their name in a **variable**."
   ]
  },
  {
   "cell_type": "code",
   "execution_count": 13,
   "metadata": {},
   "outputs": [
    {
     "name": "stdin",
     "output_type": "stream",
     "text": [
      "What is your name Sandbox\n"
     ]
    },
    {
     "name": "stdout",
     "output_type": "stream",
     "text": [
      "Hello,  Sandbox\n"
     ]
    }
   ],
   "source": [
    "name = input(\"What is your name\")\n",
    "print(\"Hello, \", name)"
   ]
  },
  {
   "cell_type": "markdown",
   "metadata": {},
   "source": [
    "Notice the output is the exact same. But now we have the name stored in memory and we can use it *any time* we need.\n",
    "\n",
    "So to store a value in a variable we do something like this:\n",
    "\n",
    "`variable = value`\n",
    "\n",
    "We use a single equal sign to **assign** a *value* to a **variable**. \n",
    "\n",
    "We have the freedom to choose our variable name. But we need to follow a few rules:\n",
    "* Our variable name *must* start with a letter or an underscore (5guys is not a valid variable name)\n",
    "* Variables can only contain letters, numbers, and underscores. (A-z, 0-9, _)\n",
    "* Variable names *are* case sensitive. (age, Age, and AGE are three different variables)\n",
    "* Our variable cannot contain spaces or reserved words. Some common reserved words:\n",
    "    * and\n",
    "    * or\n",
    "    * if\n",
    "    * else\n",
    "    * class\n",
    "    * for\n",
    "    * while\n",
    "    * etc...\n",
    "* Our variables should not contain built-in function names like:    \n",
    "    * sum\n",
    "    * abs\n",
    "    * input\n",
    "    * print\n",
    "    * Full list [here](https://docs.python.org/3/library/functions.html)\n",
    "* Variables should be all lowercase with underscores to separate words. Some good variable names:\n",
    "    * name\n",
    "    * temp_before\n",
    "    * temp_after\n",
    "    * a_very_long_name\n",
    "    * x\n",
    "    * y\n",
    "    \n",
    "## Temperature Conversion\n",
    "Lets use variables to create a useful application, converting Fahrenheit to Celcius!"
   ]
  },
  {
   "cell_type": "code",
   "execution_count": 17,
   "metadata": {},
   "outputs": [
    {
     "name": "stdin",
     "output_type": "stream",
     "text": [
      "What is the temperature(f):  32\n"
     ]
    },
    {
     "name": "stdout",
     "output_type": "stream",
     "text": [
      "Celcius: 0.0\n"
     ]
    },
    {
     "name": "stdin",
     "output_type": "stream",
     "text": [
      "What is the temperature(c):  15\n"
     ]
    },
    {
     "name": "stdout",
     "output_type": "stream",
     "text": [
      "Fahrenheit: 59.0\n"
     ]
    }
   ],
   "source": [
    "# Ask the user for a temperature, store to variable\n",
    "Tempf = input(\"What is the temperature(f): \")\n",
    "\n",
    "# Change that temp into a float, (from a string)\n",
    "Tempf = float(Tempf)\n",
    "\n",
    "# Convert that number into Celcius from Fahrenheit\n",
    "# Tc = (Tf - 32) x (5/9)\n",
    "TempC = (Tempf - 32) * (5/9)\n",
    "\n",
    "# Print out that number. With some info\n",
    "print(\"Celcius:\", TempC)\n",
    "\n",
    "# Going the other direction\n",
    "# Tf = ((9/5) x Tc) + 32\n",
    "Tc = input(\"What is the temperature(c): \")\n",
    "Tc = float(Tc)\n",
    "Tf = (9/5 * Tc) + 32\n",
    "print(\"Fahrenheit:\",Tf)"
   ]
  },
  {
   "cell_type": "markdown",
   "metadata": {},
   "source": [
    "Awesome! We can use these variables to make math easier as well.\n",
    "For example, let's say we have an equation like:"
   ]
  },
  {
   "cell_type": "markdown",
   "metadata": {},
   "source": [
    "![gif](docs/math.gif)"
   ]
  },
  {
   "cell_type": "markdown",
   "metadata": {},
   "source": [
    "We can use variables to easily evalueate this expression with different values of `x` and `y`."
   ]
  },
  {
   "cell_type": "code",
   "execution_count": 19,
   "metadata": {},
   "outputs": [
    {
     "data": {
      "text/plain": [
       "1324.0"
      ]
     },
     "execution_count": 19,
     "metadata": {},
     "output_type": "execute_result"
    }
   ],
   "source": [
    "x = 3\n",
    "y = 4\n",
    "(90/ (15 * x)) * 14 + (18**2) * y"
   ]
  },
  {
   "cell_type": "code",
   "execution_count": 20,
   "metadata": {},
   "outputs": [
    {
     "data": {
      "text/plain": [
       "408.0"
      ]
     },
     "execution_count": 20,
     "metadata": {},
     "output_type": "execute_result"
    }
   ],
   "source": [
    "x = 1\n",
    "y = 1\n",
    "(90 / (15 * x)) * 14 + (18**2) * y"
   ]
  },
  {
   "cell_type": "markdown",
   "metadata": {},
   "source": [
    "We will be using variables for the rest of our Python journey!. You will get lots and lots of practice creating and using variables in your programs so come back and take a look at the ideas above any time!\n",
    "\n",
    "### Challenges\n",
    " 1. Implement Pythogorean's Theorem:\n",
    " \n",
    " ![png](docs/pythag.png)\n",
    " \n",
    " Given two sides of a right triable (a and b) calculate the length of the longest side (c). Things to keep in mind: 4 squared can be written as `4**2`, and we will need to use the square root function from the `math` module. Add `import math` to the top of the file and use `math.sqrt()` to find square roots."
   ]
  },
  {
   "cell_type": "code",
   "execution_count": null,
   "metadata": {},
   "outputs": [],
   "source": []
  },
  {
   "cell_type": "code",
   "execution_count": null,
   "metadata": {},
   "outputs": [],
   "source": []
  }
 ],
 "metadata": {
  "kernelspec": {
   "display_name": "Python 3",
   "language": "python",
   "name": "python3"
  },
  "language_info": {
   "codemirror_mode": {
    "name": "ipython",
    "version": 3
   },
   "file_extension": ".py",
   "mimetype": "text/x-python",
   "name": "python",
   "nbconvert_exporter": "python",
   "pygments_lexer": "ipython3",
   "version": "3.6.5"
  }
 },
 "nbformat": 4,
 "nbformat_minor": 2
}
